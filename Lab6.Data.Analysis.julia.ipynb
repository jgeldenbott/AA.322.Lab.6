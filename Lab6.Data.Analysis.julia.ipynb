{
 "cells": [
  {
   "cell_type": "code",
   "execution_count": 4,
   "metadata": {},
   "outputs": [],
   "source": [
    "using CSV\n",
    "using DataFrames"
   ]
  },
  {
   "cell_type": "code",
   "execution_count": null,
   "metadata": {},
   "outputs": [],
   "source": [
    "# define variables\n",
    "c = 0.1016  # characteristic length\n",
    "mu = 1000   # viscosity"
   ]
  },
  {
   "cell_type": "code",
   "execution_count": 6,
   "metadata": {},
   "outputs": [
    {
     "data": {
      "text/html": [
       "<div><div style = \"float: left;\"><span>1×19 DataFrame</span></div><div style = \"clear: both;\"></div></div><div class = \"data-frame\" style = \"overflow-x: scroll;\"><table class = \"data-frame\" style = \"margin-bottom: 6px;\"><thead><tr class = \"header\"><th class = \"rowNumber\" style = \"font-weight: bold; text-align: right;\">Row</th><th style = \"text-align: left;\">RUN</th><th style = \"text-align: left;\">TP</th><th style = \"text-align: left;\">CODE</th><th style = \"text-align: left;\">DYNAMIC PRESSURE</th><th style = \"text-align: left;\">TEMP TS</th><th style = \"text-align: left;\">BALANCE TEMP</th><th style = \"text-align: left;\">PRESS TS</th><th style = \"text-align: left;\">N1</th><th style = \"text-align: left;\">N2</th><th style = \"text-align: left;\">S1</th><th style = \"text-align: left;\">S2</th><th style = \"text-align: left;\">A1</th><th style = \"text-align: left;\">R1</th><th style = \"text-align: left;\">Lift</th><th style = \"text-align: left;\">Drag</th><th style = \"text-align: left;\">Side</th><th style = \"text-align: left;\">Pitch</th><th style = \"text-align: left;\">Yaw</th><th style = \"text-align: left;\">Roll</th></tr><tr class = \"subheader headerLastRow\"><th class = \"rowNumber\" style = \"font-weight: bold; text-align: right;\"></th><th title = \"Float64\" style = \"text-align: left;\">Float64</th><th title = \"Float64\" style = \"text-align: left;\">Float64</th><th title = \"Float64\" style = \"text-align: left;\">Float64</th><th title = \"Float64\" style = \"text-align: left;\">Float64</th><th title = \"Float64\" style = \"text-align: left;\">Float64</th><th title = \"Float64\" style = \"text-align: left;\">Float64</th><th title = \"Float64\" style = \"text-align: left;\">Float64</th><th title = \"Float64\" style = \"text-align: left;\">Float64</th><th title = \"Float64\" style = \"text-align: left;\">Float64</th><th title = \"Float64\" style = \"text-align: left;\">Float64</th><th title = \"Float64\" style = \"text-align: left;\">Float64</th><th title = \"Float64\" style = \"text-align: left;\">Float64</th><th title = \"Float64\" style = \"text-align: left;\">Float64</th><th title = \"Float64\" style = \"text-align: left;\">Float64</th><th title = \"Float64\" style = \"text-align: left;\">Float64</th><th title = \"Float64\" style = \"text-align: left;\">Float64</th><th title = \"Float64\" style = \"text-align: left;\">Float64</th><th title = \"Float64\" style = \"text-align: left;\">Float64</th><th title = \"Float64\" style = \"text-align: left;\">Float64</th></tr></thead><tbody><tr><td class = \"rowNumber\" style = \"font-weight: bold; text-align: right;\">1</td><td style = \"text-align: right;\">10.0</td><td style = \"text-align: right;\">1.0</td><td style = \"text-align: right;\">0.0</td><td style = \"text-align: right;\">4.94</td><td style = \"text-align: right;\">78.107</td><td style = \"text-align: right;\">79.58</td><td style = \"text-align: right;\">14.893</td><td style = \"text-align: right;\">-0.0</td><td style = \"text-align: right;\">-0.0</td><td style = \"text-align: right;\">-0.001</td><td style = \"text-align: right;\">-0.0</td><td style = \"text-align: right;\">-0.007</td><td style = \"text-align: right;\">0.0</td><td style = \"text-align: right;\">0.086</td><td style = \"text-align: right;\">-0.288</td><td style = \"text-align: right;\">-0.11</td><td style = \"text-align: right;\">0.096</td><td style = \"text-align: right;\">0.128</td><td style = \"text-align: right;\">0.0</td></tr></tbody></table></div>"
      ],
      "text/latex": [
       "\\begin{tabular}{r|ccccccccc}\n",
       "\t& RUN & TP & CODE & DYNAMIC PRESSURE & TEMP TS & BALANCE TEMP & PRESS TS & N1 & \\\\\n",
       "\t\\hline\n",
       "\t& Float64 & Float64 & Float64 & Float64 & Float64 & Float64 & Float64 & Float64 & \\\\\n",
       "\t\\hline\n",
       "\t1 & 10.0 & 1.0 & 0.0 & 4.94 & 78.107 & 79.58 & 14.893 & -0.0 & $\\dots$ \\\\\n",
       "\\end{tabular}\n"
      ],
      "text/plain": [
       "\u001b[1m1×19 DataFrame\u001b[0m\n",
       "\u001b[1m Row \u001b[0m│\u001b[1m RUN     \u001b[0m\u001b[1m TP      \u001b[0m\u001b[1m CODE    \u001b[0m\u001b[1m DYNAMIC PRESSURE \u001b[0m\u001b[1m TEMP TS \u001b[0m\u001b[1m BALANCE TEMP \u001b[0m\u001b[1m PRE\u001b[0m ⋯\n",
       "     │\u001b[90m Float64 \u001b[0m\u001b[90m Float64 \u001b[0m\u001b[90m Float64 \u001b[0m\u001b[90m Float64          \u001b[0m\u001b[90m Float64 \u001b[0m\u001b[90m Float64      \u001b[0m\u001b[90m Flo\u001b[0m ⋯\n",
       "─────┼──────────────────────────────────────────────────────────────────────────\n",
       "   1 │    10.0      1.0      0.0              4.94   78.107         79.58    1 ⋯\n",
       "\u001b[36m                                                              13 columns omitted\u001b[0m"
      ]
     },
     "metadata": {},
     "output_type": "display_data"
    }
   ],
   "source": [
    "df = CSV.read(\"Data/A1.W2RUN10.csv\", DataFrame)"
   ]
  },
  {
   "cell_type": "code",
   "execution_count": 23,
   "metadata": {},
   "outputs": [
    {
     "data": {
      "text/plain": [
       "78.107"
      ]
     },
     "metadata": {},
     "output_type": "display_data"
    }
   ],
   "source": [
    "dyn_p_imp = df[!, \"DYNAMIC PRESSURE\"][1]\n",
    "atmospheric_p_imp = df[!, \"PRESS TS\"][1]\n",
    "temp_f = df[!, \"TEMP TS\"][1]"
   ]
  },
  {
   "cell_type": "code",
   "execution_count": 32,
   "metadata": {},
   "outputs": [
    {
     "data": {
      "text/plain": [
       "298.765"
      ]
     },
     "metadata": {},
     "output_type": "display_data"
    }
   ],
   "source": [
    "dyn_p = dyn_p_imp * 47.88\n",
    "atmospheric_p = atmospheric_p_imp * 6894.76\n",
    "temp_k = (temp_f - 32) * 5 / 9 + 273.15 "
   ]
  },
  {
   "cell_type": "code",
   "execution_count": 33,
   "metadata": {},
   "outputs": [
    {
     "data": {
      "text/plain": [
       "236.52720000000002"
      ]
     },
     "metadata": {},
     "output_type": "display_data"
    }
   ],
   "source": [
    "dyn_p"
   ]
  },
  {
   "cell_type": "code",
   "execution_count": 34,
   "metadata": {},
   "outputs": [
    {
     "data": {
      "text/plain": [
       "calculate_rho (generic function with 1 method)"
      ]
     },
     "metadata": {},
     "output_type": "display_data"
    }
   ],
   "source": [
    "function calculate_rho(p, T; R=287)\n",
    "    rho = p / (R * T)\n",
    "\n",
    "    rho\n",
    "end"
   ]
  },
  {
   "cell_type": "code",
   "execution_count": 35,
   "metadata": {},
   "outputs": [
    {
     "data": {
      "text/plain": [
       "1.197539168998323"
      ]
     },
     "metadata": {},
     "output_type": "display_data"
    }
   ],
   "source": [
    "atmospheric_rho = calculate_rho(atmospheric_p, temp_k)"
   ]
  },
  {
   "cell_type": "code",
   "execution_count": 36,
   "metadata": {},
   "outputs": [
    {
     "data": {
      "text/plain": [
       "v_from_q (generic function with 1 method)"
      ]
     },
     "metadata": {},
     "output_type": "display_data"
    }
   ],
   "source": [
    "function v_from_q(q, rho)\n",
    "    v = sqrt(2 * q / rho)\n",
    "\n",
    "    v\n",
    "end"
   ]
  },
  {
   "cell_type": "code",
   "execution_count": 37,
   "metadata": {},
   "outputs": [
    {
     "data": {
      "text/plain": [
       "19.875162107373193"
      ]
     },
     "metadata": {},
     "output_type": "display_data"
    }
   ],
   "source": [
    "v_from_q(dyn_p, atmospheric_rho)"
   ]
  },
  {
   "cell_type": "code",
   "execution_count": null,
   "metadata": {},
   "outputs": [],
   "source": [
    "function calculate_Re(rho, v, c, mu)\n",
    "    Re = rho * v * c / mu\n",
    "\n",
    "    Re\n",
    "end"
   ]
  }
 ],
 "metadata": {
  "kernelspec": {
   "display_name": "Julia 1.10.2",
   "language": "julia",
   "name": "julia-1.10"
  },
  "language_info": {
   "file_extension": ".jl",
   "mimetype": "application/julia",
   "name": "julia",
   "version": "1.10.2"
  }
 },
 "nbformat": 4,
 "nbformat_minor": 2
}
